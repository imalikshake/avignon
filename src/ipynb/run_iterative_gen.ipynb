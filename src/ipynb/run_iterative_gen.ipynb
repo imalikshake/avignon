{
 "cells": [
  {
   "cell_type": "code",
   "execution_count": null,
   "id": "6ffab5ac",
   "metadata": {},
   "outputs": [],
   "source": [
    "%load_ext autoreload\n",
    "%autoreload 2\n",
    "\n",
    "import functools\n",
    "import os\n",
    "import cv2\n",
    "import matplotlib.pylab as plt\n",
    "import numpy as np\n",
    "import tensorflow as tf\n",
    "import tensorflow_hub as hub\n",
    "import PIL\n",
    "import sys\n",
    "import glob\n",
    "import subprocess\n",
    "import pandas as pd\n",
    "sys.path.append('../py')\n",
    "\n",
    "import ai_utils\n",
    "from image_utils import load_image, show_image, save_image\n",
    "import image_utils as iu\n",
    "import time\n",
    "\n",
    "print(\"TF Version: \", tf.__version__)\n",
    "print(\"TF Hub version: \", hub.__version__)\n",
    "print(\"Eager mode enabled: \", tf.executing_eagerly())\n",
    "print(\"GPU available: \", tf.config.list_physical_devices('GPU'))"
   ]
  },
  {
   "cell_type": "code",
   "execution_count": null,
   "id": "86c57642",
   "metadata": {},
   "outputs": [],
   "source": [
    "base_path = \"/Users/iman/github/avignon/\"    \n",
    "project_dir =  \"projects/graphite/\"\n",
    "input_dir = os.path.join(base_path, project_dir, \"graphite_style\")\n",
    "mask_dir = os.path.join(base_path, project_dir, \"graphite_original\")\n",
    "output_dir = os.path.join(base_path, project_dir, \"output\")\n",
    "styles_dir = os.path.join(base_path, project_dir, \"styles\")\n",
    "temp_dir = os.path.join(base_path, project_dir, \"temp\")"
   ]
  },
  {
   "cell_type": "code",
   "execution_count": null,
   "id": "8bcf4ba8",
   "metadata": {},
   "outputs": [],
   "source": [
    "input_files = glob.glob(os.path.join(mask_dir, '*'))\n",
    "input_files.sort()\n",
    "\n",
    "content_img_size = (1920, 1080)\n",
    "style_img_size = (1920, 1080)"
   ]
  },
  {
   "cell_type": "code",
   "execution_count": null,
   "id": "2015d705",
   "metadata": {},
   "outputs": [],
   "source": [
    "def run_ebsynth(style, input_file, guide_1, out_dir, uniformity=1,patch_size=5, pyramid_levels=1, search_vote_iters=1, patch_match_iters=1, guide_1_weight=100, guide_2_weight=0.01, guide_2=None):\n",
    "    output_file = os.path.splitext(os.path.basename(input_file))[0]\n",
    "    if guide_2:\n",
    "        command = f\"ebsynth -style {style} \\\n",
    "                -guide {guide_1}  {input_file} -weight {guide_1_weight} \\\n",
    "                -guide {guide_2} {input_file} -weight {guide_2_weight} \\\n",
    "                -output {out_dir}/{output_file}.png \\\n",
    "                -uniformity {uniformity} -patchsize {patch_size} -pyramidlevels {pyramid_levels} -searchvoteiters {search_vote_iters} -patchmatchiters {patch_match_iters} \"\n",
    "    else:\n",
    "        command = f\"ebsynth -style {style} \\\n",
    "                -guide {guide_1}  {input_file} -weight {guide_1_weight} \\\n",
    "                -output {out_dir}/{output_file}.png \\\n",
    "                -uniformity {uniformity} -patchsize {patch_size} -pyramidlevels {pyramid_levels} -searchvoteiters {search_vote_iters} -patchmatchiters {patch_match_iters} \"\n",
    "\n",
    "    subprocess.call(command, shell=True)\n",
    "    return f\"{out_dir}/{output_file}.png\""
   ]
  },
  {
   "cell_type": "code",
   "execution_count": null,
   "id": "9132c925",
   "metadata": {},
   "outputs": [],
   "source": [
    "data = df = pd.read_csv(os.path.join(base_path, \"questions/q_and_a_truth.csv\"), sep=\"|\",)\n",
    "data[\"Numbers\"]\n",
    "colours = []\n",
    "for number in data[\"Numbers\"]:\n",
    "    min_g_value = 1\n",
    "    max_g_value = 124\n",
    "    if '%' in number:\n",
    "        number = float(number.replace('%', ''))\n",
    "        colour = max_g_value*(number/100)\n",
    "    elif 'jours' in number:\n",
    "        colour = 122\n",
    "    else:\n",
    "        number = int(number)\n",
    "        length = len(str(number))\n",
    "        max_length = int('9' * length)\n",
    "        colour = number/max_length*max_g_value\n",
    "\n",
    "    colours.append(colour)\n"
   ]
  },
  {
   "cell_type": "code",
   "execution_count": null,
   "id": "55be8b22",
   "metadata": {},
   "outputs": [],
   "source": [
    "80000/99999*123\n"
   ]
  },
  {
   "cell_type": "code",
   "execution_count": null,
   "id": "67f5a1e9",
   "metadata": {},
   "outputs": [],
   "source": [
    "width = 1080\n",
    "height = 1920\n",
    "temp_files = []\n",
    "for i in range(0,10):\n",
    "    blank_image = np.zeros((height, width, 3), np.uint8)\n",
    "    blank_image.fill(255)\n",
    "    test_i = load_image(input_files[i])\n",
    "\n",
    "    grid_rows = 8\n",
    "    grid_cols = 4\n",
    "\n",
    "    cell_width = test_i.shape[1] // 4\n",
    "    cell_height = test_i.shape[0] // 8\n",
    "\n",
    "    for row in range(grid_rows):\n",
    "        for col in range(grid_cols):\n",
    "            # Calculate the position of the cell\n",
    "            x = col * cell_width\n",
    "            y = row * cell_height\n",
    "\n",
    "            # Place the text in the cell\n",
    "            text = f'(80, 90)'\n",
    "            cv2.putText(blank_image, text, (x+cell_width//2, y+cell_height//2), cv2.FONT_HERSHEY_SIMPLEX, 10, (255, 0, 0), 5)\n",
    "    temp_file_path = os.path.join(temp_dir, os.path.basename(input_files[i]))\n",
    "    # save_image(temp_file_path, test_i)\n",
    "    temp_files.append(temp_file_path)\n",
    "    s_image = iu.overlay(blank_image,test_i)\n",
    "    s_image = iu.edges(s_image)\n",
    "    s_image = cv2.cvtColor(s_image, cv2.COLOR_GRAY2BGR)\n",
    "    s_image = iu.overlay(test_i, s_image, 0.5)\n",
    "    s_image = iu.overlay(blank_image, s_image, 0.5)\n",
    "    show_image(s_image, fig_size=(10,5))\n",
    "    # break\n",
    "    # save_image(temp_file_path, cv2.cvtColor(s_image, cv2.COLOR_BGR2GRAY))\n",
    "    save_image(temp_file_path, s_image)\n"
   ]
  },
  {
   "cell_type": "code",
   "execution_count": null,
   "id": "8fa607a9",
   "metadata": {},
   "outputs": [],
   "source": [
    "output_frames = []\n",
    "for i in range(0,10):\n",
    "    input_file = temp_files[i]\n",
    "    mask_file = os.path.join(mask_dir, os.path.basename(input_file))\n",
    "    out_dir = output_dir\n",
    "    # style = os.path.join(base_path,\"projects/graphite/temp/0010.png\")\n",
    "    # style = os.path.join(base_path,\"other/text_out2.jpg\")\n",
    "    style = os.path.join(temp_dir, \"0000.png\")\n",
    "\n",
    "    # guide_2 = os.path.join(base_path,\"other/text_out.jpg\")\n",
    "    guide_2 = None\n",
    "    guide_1_weight = 1000\n",
    "    guide_2_weight = 1\n",
    "    start_time = time.time()\n",
    "    output_frames.append(run_ebsynth(style=style, guide_2=guide_2, guide_1_weight=guide_1_weight, guide_2_weight=guide_2_weight, input_file=input_file, guide_1=mask_file, out_dir=out_dir))\n",
    "    elapsed_time = time.time() - start_time\n",
    "    print(\"Elapsed time: {:.2f} seconds\".format(elapsed_time))\n",
    "\n",
    "    show_image(load_image(output_frames[i]), fig_size=(2.5,5))\n"
   ]
  },
  {
   "cell_type": "code",
   "execution_count": null,
   "id": "ee9b7a28",
   "metadata": {},
   "outputs": [],
   "source": [
    "# for i, x in enumerate(output_frames):\n",
    "#     show_image(load_image(output_frames[i]), fig_size=(2.5,5))"
   ]
  },
  {
   "cell_type": "code",
   "execution_count": null,
   "id": "2e7aae60",
   "metadata": {},
   "outputs": [],
   "source": []
  }
 ],
 "metadata": {
  "kernelspec": {
   "display_name": "Python 3 (ipykernel)",
   "language": "python",
   "name": "python3"
  },
  "language_info": {
   "codemirror_mode": {
    "name": "ipython",
    "version": 3
   },
   "file_extension": ".py",
   "mimetype": "text/x-python",
   "name": "python",
   "nbconvert_exporter": "python",
   "pygments_lexer": "ipython3",
   "version": "3.10.9"
  }
 },
 "nbformat": 4,
 "nbformat_minor": 5
}
